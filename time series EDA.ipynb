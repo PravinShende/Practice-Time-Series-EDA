{
 "cells": [
  {
   "cell_type": "code",
   "execution_count": 1,
   "id": "749dfbf1",
   "metadata": {},
   "outputs": [
    {
     "name": "stdout",
     "output_type": "stream",
     "text": [
      "Collecting pandas-datareader\n",
      "  Downloading pandas_datareader-0.10.0-py3-none-any.whl (109 kB)\n",
      "Requirement already satisfied: lxml in e:\\python\\lib\\site-packages (from pandas-datareader) (4.6.3)\n",
      "Requirement already satisfied: pandas>=0.23 in e:\\python\\lib\\site-packages (from pandas-datareader) (1.3.5)\n",
      "Requirement already satisfied: requests>=2.19.0 in e:\\python\\lib\\site-packages (from pandas-datareader) (2.26.0)\n",
      "Requirement already satisfied: python-dateutil>=2.7.3 in e:\\python\\lib\\site-packages (from pandas>=0.23->pandas-datareader) (2.8.2)\n",
      "Requirement already satisfied: pytz>=2017.3 in e:\\python\\lib\\site-packages (from pandas>=0.23->pandas-datareader) (2021.3)\n",
      "Requirement already satisfied: numpy>=1.17.3 in e:\\python\\lib\\site-packages (from pandas>=0.23->pandas-datareader) (1.20.3)\n",
      "Requirement already satisfied: six>=1.5 in e:\\python\\lib\\site-packages (from python-dateutil>=2.7.3->pandas>=0.23->pandas-datareader) (1.16.0)\n",
      "Requirement already satisfied: certifi>=2017.4.17 in e:\\python\\lib\\site-packages (from requests>=2.19.0->pandas-datareader) (2021.10.8)\n",
      "Requirement already satisfied: urllib3<1.27,>=1.21.1 in e:\\python\\lib\\site-packages (from requests>=2.19.0->pandas-datareader) (1.26.7)\n",
      "Requirement already satisfied: idna<4,>=2.5 in e:\\python\\lib\\site-packages (from requests>=2.19.0->pandas-datareader) (3.2)\n",
      "Requirement already satisfied: charset-normalizer~=2.0.0 in e:\\python\\lib\\site-packages (from requests>=2.19.0->pandas-datareader) (2.0.4)\n",
      "Installing collected packages: pandas-datareader\n",
      "Successfully installed pandas-datareader-0.10.0\n"
     ]
    }
   ],
   "source": [
    "# Install pandas Data-Reader\n",
    "!pip install pandas-datareader"
   ]
  },
  {
   "cell_type": "code",
   "execution_count": 2,
   "id": "cd40929a",
   "metadata": {},
   "outputs": [],
   "source": [
    "import pandas_datareader as pdr\n",
    "import pandas as pd \n",
    "from datetime import datetime"
   ]
  },
  {
   "cell_type": "code",
   "execution_count": 4,
   "id": "37a35e1c",
   "metadata": {},
   "outputs": [],
   "source": [
    "df_tesla =  pdr.get_data_yahoo('TSLA')"
   ]
  },
  {
   "cell_type": "code",
   "execution_count": 5,
   "id": "cac5469a",
   "metadata": {},
   "outputs": [
    {
     "data": {
      "text/html": [
       "<div>\n",
       "<style scoped>\n",
       "    .dataframe tbody tr th:only-of-type {\n",
       "        vertical-align: middle;\n",
       "    }\n",
       "\n",
       "    .dataframe tbody tr th {\n",
       "        vertical-align: top;\n",
       "    }\n",
       "\n",
       "    .dataframe thead th {\n",
       "        text-align: right;\n",
       "    }\n",
       "</style>\n",
       "<table border=\"1\" class=\"dataframe\">\n",
       "  <thead>\n",
       "    <tr style=\"text-align: right;\">\n",
       "      <th></th>\n",
       "      <th>High</th>\n",
       "      <th>Low</th>\n",
       "      <th>Open</th>\n",
       "      <th>Close</th>\n",
       "      <th>Volume</th>\n",
       "      <th>Adj Close</th>\n",
       "    </tr>\n",
       "    <tr>\n",
       "      <th>Date</th>\n",
       "      <th></th>\n",
       "      <th></th>\n",
       "      <th></th>\n",
       "      <th></th>\n",
       "      <th></th>\n",
       "      <th></th>\n",
       "    </tr>\n",
       "  </thead>\n",
       "  <tbody>\n",
       "    <tr>\n",
       "      <th>2017-02-27</th>\n",
       "      <td>49.672001</td>\n",
       "      <td>48.402000</td>\n",
       "      <td>49.633999</td>\n",
       "      <td>49.245998</td>\n",
       "      <td>57304000.0</td>\n",
       "      <td>49.245998</td>\n",
       "    </tr>\n",
       "    <tr>\n",
       "      <th>2017-02-28</th>\n",
       "      <td>50.200001</td>\n",
       "      <td>48.779999</td>\n",
       "      <td>48.838001</td>\n",
       "      <td>49.998001</td>\n",
       "      <td>30390500.0</td>\n",
       "      <td>49.998001</td>\n",
       "    </tr>\n",
       "    <tr>\n",
       "      <th>2017-03-01</th>\n",
       "      <td>50.970001</td>\n",
       "      <td>49.821999</td>\n",
       "      <td>50.835999</td>\n",
       "      <td>50.004002</td>\n",
       "      <td>24047500.0</td>\n",
       "      <td>50.004002</td>\n",
       "    </tr>\n",
       "    <tr>\n",
       "      <th>2017-03-02</th>\n",
       "      <td>50.655998</td>\n",
       "      <td>49.653999</td>\n",
       "      <td>49.942001</td>\n",
       "      <td>50.096001</td>\n",
       "      <td>16759000.0</td>\n",
       "      <td>50.096001</td>\n",
       "    </tr>\n",
       "    <tr>\n",
       "      <th>2017-03-03</th>\n",
       "      <td>50.380001</td>\n",
       "      <td>49.799999</td>\n",
       "      <td>50.147999</td>\n",
       "      <td>50.313999</td>\n",
       "      <td>14597000.0</td>\n",
       "      <td>50.313999</td>\n",
       "    </tr>\n",
       "  </tbody>\n",
       "</table>\n",
       "</div>"
      ],
      "text/plain": [
       "                 High        Low       Open      Close      Volume  Adj Close\n",
       "Date                                                                         \n",
       "2017-02-27  49.672001  48.402000  49.633999  49.245998  57304000.0  49.245998\n",
       "2017-02-28  50.200001  48.779999  48.838001  49.998001  30390500.0  49.998001\n",
       "2017-03-01  50.970001  49.821999  50.835999  50.004002  24047500.0  50.004002\n",
       "2017-03-02  50.655998  49.653999  49.942001  50.096001  16759000.0  50.096001\n",
       "2017-03-03  50.380001  49.799999  50.147999  50.313999  14597000.0  50.313999"
      ]
     },
     "execution_count": 5,
     "metadata": {},
     "output_type": "execute_result"
    }
   ],
   "source": [
    "df_tesla.head()"
   ]
  },
  {
   "cell_type": "code",
   "execution_count": 6,
   "id": "409299f0",
   "metadata": {},
   "outputs": [
    {
     "data": {
      "text/html": [
       "<div>\n",
       "<style scoped>\n",
       "    .dataframe tbody tr th:only-of-type {\n",
       "        vertical-align: middle;\n",
       "    }\n",
       "\n",
       "    .dataframe tbody tr th {\n",
       "        vertical-align: top;\n",
       "    }\n",
       "\n",
       "    .dataframe thead th {\n",
       "        text-align: right;\n",
       "    }\n",
       "</style>\n",
       "<table border=\"1\" class=\"dataframe\">\n",
       "  <thead>\n",
       "    <tr style=\"text-align: right;\">\n",
       "      <th></th>\n",
       "      <th>High</th>\n",
       "      <th>Low</th>\n",
       "      <th>Open</th>\n",
       "      <th>Close</th>\n",
       "      <th>Volume</th>\n",
       "      <th>Adj Close</th>\n",
       "    </tr>\n",
       "    <tr>\n",
       "      <th>Date</th>\n",
       "      <th></th>\n",
       "      <th></th>\n",
       "      <th></th>\n",
       "      <th></th>\n",
       "      <th></th>\n",
       "      <th></th>\n",
       "    </tr>\n",
       "  </thead>\n",
       "  <tbody>\n",
       "    <tr>\n",
       "      <th>2022-02-18</th>\n",
       "      <td>886.869995</td>\n",
       "      <td>837.609985</td>\n",
       "      <td>886.000000</td>\n",
       "      <td>856.979980</td>\n",
       "      <td>22710500.0</td>\n",
       "      <td>856.979980</td>\n",
       "    </tr>\n",
       "    <tr>\n",
       "      <th>2022-02-22</th>\n",
       "      <td>856.729980</td>\n",
       "      <td>801.099976</td>\n",
       "      <td>834.130005</td>\n",
       "      <td>821.530029</td>\n",
       "      <td>27762700.0</td>\n",
       "      <td>821.530029</td>\n",
       "    </tr>\n",
       "    <tr>\n",
       "      <th>2022-02-23</th>\n",
       "      <td>835.299988</td>\n",
       "      <td>760.559998</td>\n",
       "      <td>830.429993</td>\n",
       "      <td>764.039978</td>\n",
       "      <td>31752300.0</td>\n",
       "      <td>764.039978</td>\n",
       "    </tr>\n",
       "    <tr>\n",
       "      <th>2022-02-24</th>\n",
       "      <td>802.479980</td>\n",
       "      <td>700.000000</td>\n",
       "      <td>700.390015</td>\n",
       "      <td>800.770020</td>\n",
       "      <td>45107400.0</td>\n",
       "      <td>800.770020</td>\n",
       "    </tr>\n",
       "    <tr>\n",
       "      <th>2022-02-25</th>\n",
       "      <td>819.500000</td>\n",
       "      <td>782.400024</td>\n",
       "      <td>809.229980</td>\n",
       "      <td>809.869995</td>\n",
       "      <td>25309500.0</td>\n",
       "      <td>809.869995</td>\n",
       "    </tr>\n",
       "  </tbody>\n",
       "</table>\n",
       "</div>"
      ],
      "text/plain": [
       "                  High         Low        Open       Close      Volume  \\\n",
       "Date                                                                     \n",
       "2022-02-18  886.869995  837.609985  886.000000  856.979980  22710500.0   \n",
       "2022-02-22  856.729980  801.099976  834.130005  821.530029  27762700.0   \n",
       "2022-02-23  835.299988  760.559998  830.429993  764.039978  31752300.0   \n",
       "2022-02-24  802.479980  700.000000  700.390015  800.770020  45107400.0   \n",
       "2022-02-25  819.500000  782.400024  809.229980  809.869995  25309500.0   \n",
       "\n",
       "             Adj Close  \n",
       "Date                    \n",
       "2022-02-18  856.979980  \n",
       "2022-02-22  821.530029  \n",
       "2022-02-23  764.039978  \n",
       "2022-02-24  800.770020  \n",
       "2022-02-25  809.869995  "
      ]
     },
     "execution_count": 6,
     "metadata": {},
     "output_type": "execute_result"
    }
   ],
   "source": [
    "df_tesla.tail()"
   ]
  },
  {
   "cell_type": "code",
   "execution_count": 14,
   "id": "67169105",
   "metadata": {},
   "outputs": [
    {
     "data": {
      "text/plain": [
       "<AxesSubplot:xlabel='Date'>"
      ]
     },
     "execution_count": 14,
     "metadata": {},
     "output_type": "execute_result"
    },
    {
     "data": {
      "image/png": "[encoded data removed]",
      "text/plain": [
       "<Figure size 864x288 with 1 Axes>"
      ]
     },
     "metadata": {
      "needs_background": "light"
     },
     "output_type": "display_data"
    }
   ],
   "source": [
    "# x limit and y limit and coloring \n",
    "df_tesla.High.plot(xlim=['2020-01-01','2021-09-01'],ylim=[0,900], figsize=(12,4),ls=\n",
    "                   '--',c='green')"
   ]
  },
  {
   "cell_type": "code",
   "execution_count": 17,
   "id": "d46bb4fe",
   "metadata": {},
   "outputs": [
    {
     "data": {
      "text/plain": [
       "DatetimeIndex(['2017-02-27', '2017-02-28', '2017-03-01', '2017-03-02',\n",
       "               '2017-03-03'],\n",
       "              dtype='datetime64[ns]', name='Date', freq=None)"
      ]
     },
     "execution_count": 17,
     "metadata": {},
     "output_type": "execute_result"
    }
   ],
   "source": [
    "df_tesla.index[0:5]"
   ]
  },
  {
   "cell_type": "code",
   "execution_count": 20,
   "id": "5982642e",
   "metadata": {},
   "outputs": [
    {
     "data": {
      "text/plain": [
       "DatetimeIndex(['2020-01-02', '2020-01-03', '2020-01-06', '2020-01-07',\n",
       "               '2020-01-08', '2020-01-09', '2020-01-10', '2020-01-13',\n",
       "               '2020-01-14', '2020-01-15',\n",
       "               ...\n",
       "               '2021-08-19', '2021-08-20', '2021-08-23', '2021-08-24',\n",
       "               '2021-08-25', '2021-08-26', '2021-08-27', '2021-08-30',\n",
       "               '2021-08-31', '2021-09-01'],\n",
       "              dtype='datetime64[ns]', name='Date', length=421, freq=None)"
      ]
     },
     "execution_count": 20,
     "metadata": {},
     "output_type": "execute_result"
    }
   ],
   "source": [
    "index= df_tesla.loc['2020-01-01':'2021-09-01'].index\n",
    "index"
   ]
  },
  {
   "cell_type": "code",
   "execution_count": 21,
   "id": "5f30b479",
   "metadata": {},
   "outputs": [],
   "source": [
    "share_open = df_tesla.loc['2020-01-01':'2021-09-01']['Open']"
   ]
  },
  {
   "cell_type": "code",
   "execution_count": 22,
   "id": "29d18ec7",
   "metadata": {},
   "outputs": [
    {
     "data": {
      "text/plain": [
       "Date\n",
       "2020-01-02     84.900002\n",
       "2020-01-03     88.099998\n",
       "2020-01-06     88.094002\n",
       "2020-01-07     92.279999\n",
       "2020-01-08     94.739998\n",
       "                 ...    \n",
       "2021-08-26    708.309998\n",
       "2021-08-27    705.000000\n",
       "2021-08-30    714.719971\n",
       "2021-08-31    733.000000\n",
       "2021-09-01    734.080017\n",
       "Name: Open, Length: 421, dtype: float64"
      ]
     },
     "execution_count": 22,
     "metadata": {},
     "output_type": "execute_result"
    }
   ],
   "source": [
    "share_open"
   ]
  },
  {
   "cell_type": "code",
   "execution_count": 23,
   "id": "299d9a95",
   "metadata": {},
   "outputs": [],
   "source": [
    "import matplotlib.pyplot as plt \n",
    "%matplotlib inline\n"
   ]
  },
  {
   "cell_type": "code",
   "execution_count": 28,
   "id": "fd6ac1b3",
   "metadata": {},
   "outputs": [
    {
     "data": {
      "text/plain": [
       "[<matplotlib.lines.Line2D at 0x15177d3ba90>]"
      ]
     },
     "execution_count": 28,
     "metadata": {},
     "output_type": "execute_result"
    },
    {
     "data": {
      "image/png": "[encoded data removed]",
      "text/plain": [
       "<Figure size 432x288 with 1 Axes>"
      ]
     },
     "metadata": {
      "needs_background": "light"
     },
     "output_type": "display_data"
    }
   ],
   "source": [
    "figure,axis=plt.subplots()\n",
    "plt.tight_layout()\n",
    "figure.autofmt_xdate()\n",
    "axis.plot(index,share_open)"
   ]
  },
  {
   "cell_type": "code",
   "execution_count": 29,
   "id": "9763a29c",
   "metadata": {},
   "outputs": [],
   "source": [
    "## Datetime Index"
   ]
  },
  {
   "cell_type": "code",
   "execution_count": 31,
   "id": "acdc71db",
   "metadata": {},
   "outputs": [],
   "source": [
    "df_tesla = df_tesla.reset_index()"
   ]
  },
  {
   "cell_type": "code",
   "execution_count": 32,
   "id": "1ccabd3f",
   "metadata": {},
   "outputs": [
    {
     "name": "stdout",
     "output_type": "stream",
     "text": [
      "<class 'pandas.core.frame.DataFrame'>\n",
      "RangeIndex: 1260 entries, 0 to 1259\n",
      "Data columns (total 7 columns):\n",
      " #   Column     Non-Null Count  Dtype         \n",
      "---  ------     --------------  -----         \n",
      " 0   Date       1260 non-null   datetime64[ns]\n",
      " 1   High       1260 non-null   float64       \n",
      " 2   Low        1260 non-null   float64       \n",
      " 3   Open       1260 non-null   float64       \n",
      " 4   Close      1260 non-null   float64       \n",
      " 5   Volume     1260 non-null   float64       \n",
      " 6   Adj Close  1260 non-null   float64       \n",
      "dtypes: datetime64[ns](1), float64(6)\n",
      "memory usage: 69.0 KB\n"
     ]
    }
   ],
   "source": [
    "df_tesla.info()"
   ]
  },
  {
   "cell_type": "code",
   "execution_count": 33,
   "id": "77351e42",
   "metadata": {},
   "outputs": [
    {
     "data": {
      "text/html": [
       "<div>\n",
       "<style scoped>\n",
       "    .dataframe tbody tr th:only-of-type {\n",
       "        vertical-align: middle;\n",
       "    }\n",
       "\n",
       "    .dataframe tbody tr th {\n",
       "        vertical-align: top;\n",
       "    }\n",
       "\n",
       "    .dataframe thead th {\n",
       "        text-align: right;\n",
       "    }\n",
       "</style>\n",
       "<table border=\"1\" class=\"dataframe\">\n",
       "  <thead>\n",
       "    <tr style=\"text-align: right;\">\n",
       "      <th></th>\n",
       "      <th>Date</th>\n",
       "      <th>High</th>\n",
       "      <th>Low</th>\n",
       "      <th>Open</th>\n",
       "      <th>Close</th>\n",
       "      <th>Volume</th>\n",
       "      <th>Adj Close</th>\n",
       "    </tr>\n",
       "  </thead>\n",
       "  <tbody>\n",
       "    <tr>\n",
       "      <th>0</th>\n",
       "      <td>2017-02-27</td>\n",
       "      <td>49.672001</td>\n",
       "      <td>48.402000</td>\n",
       "      <td>49.633999</td>\n",
       "      <td>49.245998</td>\n",
       "      <td>57304000.0</td>\n",
       "      <td>49.245998</td>\n",
       "    </tr>\n",
       "    <tr>\n",
       "      <th>1</th>\n",
       "      <td>2017-02-28</td>\n",
       "      <td>50.200001</td>\n",
       "      <td>48.779999</td>\n",
       "      <td>48.838001</td>\n",
       "      <td>49.998001</td>\n",
       "      <td>30390500.0</td>\n",
       "      <td>49.998001</td>\n",
       "    </tr>\n",
       "    <tr>\n",
       "      <th>2</th>\n",
       "      <td>2017-03-01</td>\n",
       "      <td>50.970001</td>\n",
       "      <td>49.821999</td>\n",
       "      <td>50.835999</td>\n",
       "      <td>50.004002</td>\n",
       "      <td>24047500.0</td>\n",
       "      <td>50.004002</td>\n",
       "    </tr>\n",
       "    <tr>\n",
       "      <th>3</th>\n",
       "      <td>2017-03-02</td>\n",
       "      <td>50.655998</td>\n",
       "      <td>49.653999</td>\n",
       "      <td>49.942001</td>\n",
       "      <td>50.096001</td>\n",
       "      <td>16759000.0</td>\n",
       "      <td>50.096001</td>\n",
       "    </tr>\n",
       "    <tr>\n",
       "      <th>4</th>\n",
       "      <td>2017-03-03</td>\n",
       "      <td>50.380001</td>\n",
       "      <td>49.799999</td>\n",
       "      <td>50.147999</td>\n",
       "      <td>50.313999</td>\n",
       "      <td>14597000.0</td>\n",
       "      <td>50.313999</td>\n",
       "    </tr>\n",
       "    <tr>\n",
       "      <th>...</th>\n",
       "      <td>...</td>\n",
       "      <td>...</td>\n",
       "      <td>...</td>\n",
       "      <td>...</td>\n",
       "      <td>...</td>\n",
       "      <td>...</td>\n",
       "      <td>...</td>\n",
       "    </tr>\n",
       "    <tr>\n",
       "      <th>1255</th>\n",
       "      <td>2022-02-18</td>\n",
       "      <td>886.869995</td>\n",
       "      <td>837.609985</td>\n",
       "      <td>886.000000</td>\n",
       "      <td>856.979980</td>\n",
       "      <td>22710500.0</td>\n",
       "      <td>856.979980</td>\n",
       "    </tr>\n",
       "    <tr>\n",
       "      <th>1256</th>\n",
       "      <td>2022-02-22</td>\n",
       "      <td>856.729980</td>\n",
       "      <td>801.099976</td>\n",
       "      <td>834.130005</td>\n",
       "      <td>821.530029</td>\n",
       "      <td>27762700.0</td>\n",
       "      <td>821.530029</td>\n",
       "    </tr>\n",
       "    <tr>\n",
       "      <th>1257</th>\n",
       "      <td>2022-02-23</td>\n",
       "      <td>835.299988</td>\n",
       "      <td>760.559998</td>\n",
       "      <td>830.429993</td>\n",
       "      <td>764.039978</td>\n",
       "      <td>31752300.0</td>\n",
       "      <td>764.039978</td>\n",
       "    </tr>\n",
       "    <tr>\n",
       "      <th>1258</th>\n",
       "      <td>2022-02-24</td>\n",
       "      <td>802.479980</td>\n",
       "      <td>700.000000</td>\n",
       "      <td>700.390015</td>\n",
       "      <td>800.770020</td>\n",
       "      <td>45107400.0</td>\n",
       "      <td>800.770020</td>\n",
       "    </tr>\n",
       "    <tr>\n",
       "      <th>1259</th>\n",
       "      <td>2022-02-25</td>\n",
       "      <td>819.500000</td>\n",
       "      <td>782.400024</td>\n",
       "      <td>809.229980</td>\n",
       "      <td>809.869995</td>\n",
       "      <td>25309500.0</td>\n",
       "      <td>809.869995</td>\n",
       "    </tr>\n",
       "  </tbody>\n",
       "</table>\n",
       "<p>1260 rows × 7 columns</p>\n",
       "</div>"
      ],
      "text/plain": [
       "           Date        High         Low        Open       Close      Volume  \\\n",
       "0    2017-02-27   49.672001   48.402000   49.633999   49.245998  57304000.0   \n",
       "1    2017-02-28   50.200001   48.779999   48.838001   49.998001  30390500.0   \n",
       "2    2017-03-01   50.970001   49.821999   50.835999   50.004002  24047500.0   \n",
       "3    2017-03-02   50.655998   49.653999   49.942001   50.096001  16759000.0   \n",
       "4    2017-03-03   50.380001   49.799999   50.147999   50.313999  14597000.0   \n",
       "...         ...         ...         ...         ...         ...         ...   \n",
       "1255 2022-02-18  886.869995  837.609985  886.000000  856.979980  22710500.0   \n",
       "1256 2022-02-22  856.729980  801.099976  834.130005  821.530029  27762700.0   \n",
       "1257 2022-02-23  835.299988  760.559998  830.429993  764.039978  31752300.0   \n",
       "1258 2022-02-24  802.479980  700.000000  700.390015  800.770020  45107400.0   \n",
       "1259 2022-02-25  819.500000  782.400024  809.229980  809.869995  25309500.0   \n",
       "\n",
       "       Adj Close  \n",
       "0      49.245998  \n",
       "1      49.998001  \n",
       "2      50.004002  \n",
       "3      50.096001  \n",
       "4      50.313999  \n",
       "...          ...  \n",
       "1255  856.979980  \n",
       "1256  821.530029  \n",
       "1257  764.039978  \n",
       "1258  800.770020  \n",
       "1259  809.869995  \n",
       "\n",
       "[1260 rows x 7 columns]"
      ]
     },
     "execution_count": 33,
     "metadata": {},
     "output_type": "execute_result"
    }
   ],
   "source": [
    "df_tesla"
   ]
  },
  {
   "cell_type": "code",
   "execution_count": 34,
   "id": "c71c8131",
   "metadata": {},
   "outputs": [
    {
     "data": {
      "text/plain": [
       "0      2017-02-27\n",
       "1      2017-02-28\n",
       "2      2017-03-01\n",
       "3      2017-03-02\n",
       "4      2017-03-03\n",
       "          ...    \n",
       "1255   2022-02-18\n",
       "1256   2022-02-22\n",
       "1257   2022-02-23\n",
       "1258   2022-02-24\n",
       "1259   2022-02-25\n",
       "Name: Date, Length: 1260, dtype: datetime64[ns]"
      ]
     },
     "execution_count": 34,
     "metadata": {},
     "output_type": "execute_result"
    }
   ],
   "source": [
    "pd.to_datetime(df_tesla.Date)"
   ]
  },
  {
   "cell_type": "code",
   "execution_count": 35,
   "id": "6afa4933",
   "metadata": {},
   "outputs": [
    {
     "data": {
      "text/html": [
       "<div>\n",
       "<style scoped>\n",
       "    .dataframe tbody tr th:only-of-type {\n",
       "        vertical-align: middle;\n",
       "    }\n",
       "\n",
       "    .dataframe tbody tr th {\n",
       "        vertical-align: top;\n",
       "    }\n",
       "\n",
       "    .dataframe thead th {\n",
       "        text-align: right;\n",
       "    }\n",
       "</style>\n",
       "<table border=\"1\" class=\"dataframe\">\n",
       "  <thead>\n",
       "    <tr style=\"text-align: right;\">\n",
       "      <th></th>\n",
       "      <th>Date</th>\n",
       "      <th>High</th>\n",
       "      <th>Low</th>\n",
       "      <th>Open</th>\n",
       "      <th>Close</th>\n",
       "      <th>Volume</th>\n",
       "      <th>Adj Close</th>\n",
       "    </tr>\n",
       "  </thead>\n",
       "  <tbody>\n",
       "    <tr>\n",
       "      <th>0</th>\n",
       "      <td>2017-02-27</td>\n",
       "      <td>49.672001</td>\n",
       "      <td>48.402000</td>\n",
       "      <td>49.633999</td>\n",
       "      <td>49.245998</td>\n",
       "      <td>57304000.0</td>\n",
       "      <td>49.245998</td>\n",
       "    </tr>\n",
       "    <tr>\n",
       "      <th>1</th>\n",
       "      <td>2017-02-28</td>\n",
       "      <td>50.200001</td>\n",
       "      <td>48.779999</td>\n",
       "      <td>48.838001</td>\n",
       "      <td>49.998001</td>\n",
       "      <td>30390500.0</td>\n",
       "      <td>49.998001</td>\n",
       "    </tr>\n",
       "    <tr>\n",
       "      <th>2</th>\n",
       "      <td>2017-03-01</td>\n",
       "      <td>50.970001</td>\n",
       "      <td>49.821999</td>\n",
       "      <td>50.835999</td>\n",
       "      <td>50.004002</td>\n",
       "      <td>24047500.0</td>\n",
       "      <td>50.004002</td>\n",
       "    </tr>\n",
       "    <tr>\n",
       "      <th>3</th>\n",
       "      <td>2017-03-02</td>\n",
       "      <td>50.655998</td>\n",
       "      <td>49.653999</td>\n",
       "      <td>49.942001</td>\n",
       "      <td>50.096001</td>\n",
       "      <td>16759000.0</td>\n",
       "      <td>50.096001</td>\n",
       "    </tr>\n",
       "    <tr>\n",
       "      <th>4</th>\n",
       "      <td>2017-03-03</td>\n",
       "      <td>50.380001</td>\n",
       "      <td>49.799999</td>\n",
       "      <td>50.147999</td>\n",
       "      <td>50.313999</td>\n",
       "      <td>14597000.0</td>\n",
       "      <td>50.313999</td>\n",
       "    </tr>\n",
       "    <tr>\n",
       "      <th>...</th>\n",
       "      <td>...</td>\n",
       "      <td>...</td>\n",
       "      <td>...</td>\n",
       "      <td>...</td>\n",
       "      <td>...</td>\n",
       "      <td>...</td>\n",
       "      <td>...</td>\n",
       "    </tr>\n",
       "    <tr>\n",
       "      <th>1255</th>\n",
       "      <td>2022-02-18</td>\n",
       "      <td>886.869995</td>\n",
       "      <td>837.609985</td>\n",
       "      <td>886.000000</td>\n",
       "      <td>856.979980</td>\n",
       "      <td>22710500.0</td>\n",
       "      <td>856.979980</td>\n",
       "    </tr>\n",
       "    <tr>\n",
       "      <th>1256</th>\n",
       "      <td>2022-02-22</td>\n",
       "      <td>856.729980</td>\n",
       "      <td>801.099976</td>\n",
       "      <td>834.130005</td>\n",
       "      <td>821.530029</td>\n",
       "      <td>27762700.0</td>\n",
       "      <td>821.530029</td>\n",
       "    </tr>\n",
       "    <tr>\n",
       "      <th>1257</th>\n",
       "      <td>2022-02-23</td>\n",
       "      <td>835.299988</td>\n",
       "      <td>760.559998</td>\n",
       "      <td>830.429993</td>\n",
       "      <td>764.039978</td>\n",
       "      <td>31752300.0</td>\n",
       "      <td>764.039978</td>\n",
       "    </tr>\n",
       "    <tr>\n",
       "      <th>1258</th>\n",
       "      <td>2022-02-24</td>\n",
       "      <td>802.479980</td>\n",
       "      <td>700.000000</td>\n",
       "      <td>700.390015</td>\n",
       "      <td>800.770020</td>\n",
       "      <td>45107400.0</td>\n",
       "      <td>800.770020</td>\n",
       "    </tr>\n",
       "    <tr>\n",
       "      <th>1259</th>\n",
       "      <td>2022-02-25</td>\n",
       "      <td>819.500000</td>\n",
       "      <td>782.400024</td>\n",
       "      <td>809.229980</td>\n",
       "      <td>809.869995</td>\n",
       "      <td>25309500.0</td>\n",
       "      <td>809.869995</td>\n",
       "    </tr>\n",
       "  </tbody>\n",
       "</table>\n",
       "<p>1260 rows × 7 columns</p>\n",
       "</div>"
      ],
      "text/plain": [
       "           Date        High         Low        Open       Close      Volume  \\\n",
       "0    2017-02-27   49.672001   48.402000   49.633999   49.245998  57304000.0   \n",
       "1    2017-02-28   50.200001   48.779999   48.838001   49.998001  30390500.0   \n",
       "2    2017-03-01   50.970001   49.821999   50.835999   50.004002  24047500.0   \n",
       "3    2017-03-02   50.655998   49.653999   49.942001   50.096001  16759000.0   \n",
       "4    2017-03-03   50.380001   49.799999   50.147999   50.313999  14597000.0   \n",
       "...         ...         ...         ...         ...         ...         ...   \n",
       "1255 2022-02-18  886.869995  837.609985  886.000000  856.979980  22710500.0   \n",
       "1256 2022-02-22  856.729980  801.099976  834.130005  821.530029  27762700.0   \n",
       "1257 2022-02-23  835.299988  760.559998  830.429993  764.039978  31752300.0   \n",
       "1258 2022-02-24  802.479980  700.000000  700.390015  800.770020  45107400.0   \n",
       "1259 2022-02-25  819.500000  782.400024  809.229980  809.869995  25309500.0   \n",
       "\n",
       "       Adj Close  \n",
       "0      49.245998  \n",
       "1      49.998001  \n",
       "2      50.004002  \n",
       "3      50.096001  \n",
       "4      50.313999  \n",
       "...          ...  \n",
       "1255  856.979980  \n",
       "1256  821.530029  \n",
       "1257  764.039978  \n",
       "1258  800.770020  \n",
       "1259  809.869995  \n",
       "\n",
       "[1260 rows x 7 columns]"
      ]
     },
     "execution_count": 35,
     "metadata": {},
     "output_type": "execute_result"
    }
   ],
   "source": [
    "df_tesla"
   ]
  },
  {
   "cell_type": "code",
   "execution_count": 41,
   "id": "01fac9b5",
   "metadata": {},
   "outputs": [],
   "source": [
    "df_tesla = df_tesla.set_index('Date',drop=True)"
   ]
  },
  {
   "cell_type": "code",
   "execution_count": 42,
   "id": "d777e1b3",
   "metadata": {},
   "outputs": [
    {
     "data": {
      "text/html": [
       "<div>\n",
       "<style scoped>\n",
       "    .dataframe tbody tr th:only-of-type {\n",
       "        vertical-align: middle;\n",
       "    }\n",
       "\n",
       "    .dataframe tbody tr th {\n",
       "        vertical-align: top;\n",
       "    }\n",
       "\n",
       "    .dataframe thead th {\n",
       "        text-align: right;\n",
       "    }\n",
       "</style>\n",
       "<table border=\"1\" class=\"dataframe\">\n",
       "  <thead>\n",
       "    <tr style=\"text-align: right;\">\n",
       "      <th></th>\n",
       "      <th>High</th>\n",
       "      <th>Low</th>\n",
       "      <th>Open</th>\n",
       "      <th>Close</th>\n",
       "      <th>Volume</th>\n",
       "      <th>Adj Close</th>\n",
       "    </tr>\n",
       "    <tr>\n",
       "      <th>Date</th>\n",
       "      <th></th>\n",
       "      <th></th>\n",
       "      <th></th>\n",
       "      <th></th>\n",
       "      <th></th>\n",
       "      <th></th>\n",
       "    </tr>\n",
       "  </thead>\n",
       "  <tbody>\n",
       "    <tr>\n",
       "      <th>2017-02-27</th>\n",
       "      <td>49.672001</td>\n",
       "      <td>48.402000</td>\n",
       "      <td>49.633999</td>\n",
       "      <td>49.245998</td>\n",
       "      <td>57304000.0</td>\n",
       "      <td>49.245998</td>\n",
       "    </tr>\n",
       "    <tr>\n",
       "      <th>2017-02-28</th>\n",
       "      <td>50.200001</td>\n",
       "      <td>48.779999</td>\n",
       "      <td>48.838001</td>\n",
       "      <td>49.998001</td>\n",
       "      <td>30390500.0</td>\n",
       "      <td>49.998001</td>\n",
       "    </tr>\n",
       "    <tr>\n",
       "      <th>2017-03-01</th>\n",
       "      <td>50.970001</td>\n",
       "      <td>49.821999</td>\n",
       "      <td>50.835999</td>\n",
       "      <td>50.004002</td>\n",
       "      <td>24047500.0</td>\n",
       "      <td>50.004002</td>\n",
       "    </tr>\n",
       "    <tr>\n",
       "      <th>2017-03-02</th>\n",
       "      <td>50.655998</td>\n",
       "      <td>49.653999</td>\n",
       "      <td>49.942001</td>\n",
       "      <td>50.096001</td>\n",
       "      <td>16759000.0</td>\n",
       "      <td>50.096001</td>\n",
       "    </tr>\n",
       "    <tr>\n",
       "      <th>2017-03-03</th>\n",
       "      <td>50.380001</td>\n",
       "      <td>49.799999</td>\n",
       "      <td>50.147999</td>\n",
       "      <td>50.313999</td>\n",
       "      <td>14597000.0</td>\n",
       "      <td>50.313999</td>\n",
       "    </tr>\n",
       "  </tbody>\n",
       "</table>\n",
       "</div>"
      ],
      "text/plain": [
       "                 High        Low       Open      Close      Volume  Adj Close\n",
       "Date                                                                         \n",
       "2017-02-27  49.672001  48.402000  49.633999  49.245998  57304000.0  49.245998\n",
       "2017-02-28  50.200001  48.779999  48.838001  49.998001  30390500.0  49.998001\n",
       "2017-03-01  50.970001  49.821999  50.835999  50.004002  24047500.0  50.004002\n",
       "2017-03-02  50.655998  49.653999  49.942001  50.096001  16759000.0  50.096001\n",
       "2017-03-03  50.380001  49.799999  50.147999  50.313999  14597000.0  50.313999"
      ]
     },
     "execution_count": 42,
     "metadata": {},
     "output_type": "execute_result"
    }
   ],
   "source": [
    "df_tesla.head()"
   ]
  },
  {
   "cell_type": "code",
   "execution_count": 43,
   "id": "5cd8fbd0",
   "metadata": {},
   "outputs": [],
   "source": [
    "from datetime import datetime"
   ]
  },
  {
   "cell_type": "code",
   "execution_count": 44,
   "id": "b2b6b347",
   "metadata": {},
   "outputs": [
    {
     "data": {
      "text/plain": [
       "datetime.datetime(2021, 11, 21, 0, 0)"
      ]
     },
     "execution_count": 44,
     "metadata": {},
     "output_type": "execute_result"
    }
   ],
   "source": [
    "datetime(2021,11,21)"
   ]
  },
  {
   "cell_type": "code",
   "execution_count": 49,
   "id": "454abdf8",
   "metadata": {},
   "outputs": [
    {
     "data": {
      "text/plain": [
       "datetime.datetime(2022, 2, 27, 20, 53, 58, 958555)"
      ]
     },
     "execution_count": 49,
     "metadata": {},
     "output_type": "execute_result"
    }
   ],
   "source": [
    "datetime.now()"
   ]
  },
  {
   "cell_type": "code",
   "execution_count": 50,
   "id": "ce7758f0",
   "metadata": {},
   "outputs": [],
   "source": [
    "def add_num(num1,num2):\n",
    "    return num1+num2\n"
   ]
  },
  {
   "cell_type": "code",
   "execution_count": 51,
   "id": "681d2446",
   "metadata": {},
   "outputs": [
    {
     "name": "stdout",
     "output_type": "stream",
     "text": [
      "0:00:00\n"
     ]
    }
   ],
   "source": [
    "\n",
    "start_time= datetime.now()\n",
    "num1 =20\n",
    "num2 =30\n",
    "\n",
    "for i in[1,2,3,4,5]:\n",
    "\n",
    "    add_num(num1,num2)\n",
    "end_time = datetime.now()\n",
    "print(end_time-start_time)"
   ]
  },
  {
   "cell_type": "code",
   "execution_count": 52,
   "id": "4d9b2cfe",
   "metadata": {},
   "outputs": [],
   "source": [
    "date = datetime(2021,11,11)"
   ]
  },
  {
   "cell_type": "code",
   "execution_count": 53,
   "id": "fcc52d3c",
   "metadata": {},
   "outputs": [
    {
     "data": {
      "text/plain": [
       "datetime.datetime(2021, 11, 11, 0, 0)"
      ]
     },
     "execution_count": 53,
     "metadata": {},
     "output_type": "execute_result"
    }
   ],
   "source": [
    "date"
   ]
  },
  {
   "cell_type": "code",
   "execution_count": 55,
   "id": "b8976b75",
   "metadata": {},
   "outputs": [
    {
     "data": {
      "text/plain": [
       "datetime.date(2021, 11, 11)"
      ]
     },
     "execution_count": 55,
     "metadata": {},
     "output_type": "execute_result"
    }
   ],
   "source": [
    "date.date()"
   ]
  },
  {
   "cell_type": "code",
   "execution_count": 57,
   "id": "b018dfe1",
   "metadata": {},
   "outputs": [
    {
     "data": {
      "text/plain": [
       "11"
      ]
     },
     "execution_count": 57,
     "metadata": {},
     "output_type": "execute_result"
    }
   ],
   "source": [
    "date.day"
   ]
  },
  {
   "cell_type": "code",
   "execution_count": 64,
   "id": "cdae59ad",
   "metadata": {},
   "outputs": [
    {
     "data": {
      "text/plain": [
       "3"
      ]
     },
     "execution_count": 64,
     "metadata": {},
     "output_type": "execute_result"
    }
   ],
   "source": [
    "date.weekday()"
   ]
  },
  {
   "cell_type": "code",
   "execution_count": 61,
   "id": "035cd62d",
   "metadata": {},
   "outputs": [
    {
     "data": {
      "text/plain": [
       "2021"
      ]
     },
     "execution_count": 61,
     "metadata": {},
     "output_type": "execute_result"
    }
   ],
   "source": [
    "date.year"
   ]
  },
  {
   "cell_type": "markdown",
   "id": "e81cb956",
   "metadata": {},
   "source": [
    "## Time Reshampling "
   ]
  },
  {
   "cell_type": "code",
   "execution_count": 62,
   "id": "6d63edb8",
   "metadata": {},
   "outputs": [
    {
     "data": {
      "text/html": [
       "<div>\n",
       "<style scoped>\n",
       "    .dataframe tbody tr th:only-of-type {\n",
       "        vertical-align: middle;\n",
       "    }\n",
       "\n",
       "    .dataframe tbody tr th {\n",
       "        vertical-align: top;\n",
       "    }\n",
       "\n",
       "    .dataframe thead th {\n",
       "        text-align: right;\n",
       "    }\n",
       "</style>\n",
       "<table border=\"1\" class=\"dataframe\">\n",
       "  <thead>\n",
       "    <tr style=\"text-align: right;\">\n",
       "      <th></th>\n",
       "      <th>High</th>\n",
       "      <th>Low</th>\n",
       "      <th>Open</th>\n",
       "      <th>Close</th>\n",
       "      <th>Volume</th>\n",
       "      <th>Adj Close</th>\n",
       "    </tr>\n",
       "    <tr>\n",
       "      <th>Date</th>\n",
       "      <th></th>\n",
       "      <th></th>\n",
       "      <th></th>\n",
       "      <th></th>\n",
       "      <th></th>\n",
       "      <th></th>\n",
       "    </tr>\n",
       "  </thead>\n",
       "  <tbody>\n",
       "    <tr>\n",
       "      <th>2017-02-27</th>\n",
       "      <td>49.672001</td>\n",
       "      <td>48.402000</td>\n",
       "      <td>49.633999</td>\n",
       "      <td>49.245998</td>\n",
       "      <td>57304000.0</td>\n",
       "      <td>49.245998</td>\n",
       "    </tr>\n",
       "    <tr>\n",
       "      <th>2017-02-28</th>\n",
       "      <td>50.200001</td>\n",
       "      <td>48.779999</td>\n",
       "      <td>48.838001</td>\n",
       "      <td>49.998001</td>\n",
       "      <td>30390500.0</td>\n",
       "      <td>49.998001</td>\n",
       "    </tr>\n",
       "    <tr>\n",
       "      <th>2017-03-01</th>\n",
       "      <td>50.970001</td>\n",
       "      <td>49.821999</td>\n",
       "      <td>50.835999</td>\n",
       "      <td>50.004002</td>\n",
       "      <td>24047500.0</td>\n",
       "      <td>50.004002</td>\n",
       "    </tr>\n",
       "    <tr>\n",
       "      <th>2017-03-02</th>\n",
       "      <td>50.655998</td>\n",
       "      <td>49.653999</td>\n",
       "      <td>49.942001</td>\n",
       "      <td>50.096001</td>\n",
       "      <td>16759000.0</td>\n",
       "      <td>50.096001</td>\n",
       "    </tr>\n",
       "    <tr>\n",
       "      <th>2017-03-03</th>\n",
       "      <td>50.380001</td>\n",
       "      <td>49.799999</td>\n",
       "      <td>50.147999</td>\n",
       "      <td>50.313999</td>\n",
       "      <td>14597000.0</td>\n",
       "      <td>50.313999</td>\n",
       "    </tr>\n",
       "  </tbody>\n",
       "</table>\n",
       "</div>"
      ],
      "text/plain": [
       "                 High        Low       Open      Close      Volume  Adj Close\n",
       "Date                                                                         \n",
       "2017-02-27  49.672001  48.402000  49.633999  49.245998  57304000.0  49.245998\n",
       "2017-02-28  50.200001  48.779999  48.838001  49.998001  30390500.0  49.998001\n",
       "2017-03-01  50.970001  49.821999  50.835999  50.004002  24047500.0  50.004002\n",
       "2017-03-02  50.655998  49.653999  49.942001  50.096001  16759000.0  50.096001\n",
       "2017-03-03  50.380001  49.799999  50.147999  50.313999  14597000.0  50.313999"
      ]
     },
     "execution_count": 62,
     "metadata": {},
     "output_type": "execute_result"
    }
   ],
   "source": [
    "df_tesla.head()"
   ]
  },
  {
   "cell_type": "code",
   "execution_count": 68,
   "id": "1fb05fe0",
   "metadata": {},
   "outputs": [
    {
     "data": {
      "text/html": [
       "<div>\n",
       "<style scoped>\n",
       "    .dataframe tbody tr th:only-of-type {\n",
       "        vertical-align: middle;\n",
       "    }\n",
       "\n",
       "    .dataframe tbody tr th {\n",
       "        vertical-align: top;\n",
       "    }\n",
       "\n",
       "    .dataframe thead th {\n",
       "        text-align: right;\n",
       "    }\n",
       "</style>\n",
       "<table border=\"1\" class=\"dataframe\">\n",
       "  <thead>\n",
       "    <tr style=\"text-align: right;\">\n",
       "      <th></th>\n",
       "      <th>High</th>\n",
       "      <th>Low</th>\n",
       "      <th>Open</th>\n",
       "      <th>Close</th>\n",
       "      <th>Volume</th>\n",
       "      <th>Adj Close</th>\n",
       "    </tr>\n",
       "    <tr>\n",
       "      <th>Date</th>\n",
       "      <th></th>\n",
       "      <th></th>\n",
       "      <th></th>\n",
       "      <th></th>\n",
       "      <th></th>\n",
       "      <th></th>\n",
       "    </tr>\n",
       "  </thead>\n",
       "  <tbody>\n",
       "    <tr>\n",
       "      <th>2017-12-31</th>\n",
       "      <td>77.921997</td>\n",
       "      <td>75.870003</td>\n",
       "      <td>77.337997</td>\n",
       "      <td>77.000000</td>\n",
       "      <td>98957000.0</td>\n",
       "      <td>77.000000</td>\n",
       "    </tr>\n",
       "    <tr>\n",
       "      <th>2018-12-31</th>\n",
       "      <td>77.491997</td>\n",
       "      <td>73.424004</td>\n",
       "      <td>75.000000</td>\n",
       "      <td>75.914001</td>\n",
       "      <td>168248500.0</td>\n",
       "      <td>75.914001</td>\n",
       "    </tr>\n",
       "    <tr>\n",
       "      <th>2019-12-31</th>\n",
       "      <td>87.061996</td>\n",
       "      <td>85.269997</td>\n",
       "      <td>87.000000</td>\n",
       "      <td>86.188004</td>\n",
       "      <td>150030500.0</td>\n",
       "      <td>86.188004</td>\n",
       "    </tr>\n",
       "    <tr>\n",
       "      <th>2020-12-31</th>\n",
       "      <td>718.719971</td>\n",
       "      <td>691.119995</td>\n",
       "      <td>699.989990</td>\n",
       "      <td>705.669983</td>\n",
       "      <td>304694000.0</td>\n",
       "      <td>705.669983</td>\n",
       "    </tr>\n",
       "    <tr>\n",
       "      <th>2021-12-31</th>\n",
       "      <td>1243.489990</td>\n",
       "      <td>1217.000000</td>\n",
       "      <td>1234.410034</td>\n",
       "      <td>1229.910034</td>\n",
       "      <td>89396500.0</td>\n",
       "      <td>1229.910034</td>\n",
       "    </tr>\n",
       "    <tr>\n",
       "      <th>2022-12-31</th>\n",
       "      <td>1208.000000</td>\n",
       "      <td>1136.040039</td>\n",
       "      <td>1189.550049</td>\n",
       "      <td>1199.780029</td>\n",
       "      <td>50521900.0</td>\n",
       "      <td>1199.780029</td>\n",
       "    </tr>\n",
       "  </tbody>\n",
       "</table>\n",
       "</div>"
      ],
      "text/plain": [
       "                   High          Low         Open        Close       Volume  \\\n",
       "Date                                                                          \n",
       "2017-12-31    77.921997    75.870003    77.337997    77.000000   98957000.0   \n",
       "2018-12-31    77.491997    73.424004    75.000000    75.914001  168248500.0   \n",
       "2019-12-31    87.061996    85.269997    87.000000    86.188004  150030500.0   \n",
       "2020-12-31   718.719971   691.119995   699.989990   705.669983  304694000.0   \n",
       "2021-12-31  1243.489990  1217.000000  1234.410034  1229.910034   89396500.0   \n",
       "2022-12-31  1208.000000  1136.040039  1189.550049  1199.780029   50521900.0   \n",
       "\n",
       "              Adj Close  \n",
       "Date                     \n",
       "2017-12-31    77.000000  \n",
       "2018-12-31    75.914001  \n",
       "2019-12-31    86.188004  \n",
       "2020-12-31   705.669983  \n",
       "2021-12-31  1229.910034  \n",
       "2022-12-31  1199.780029  "
      ]
     },
     "execution_count": 68,
     "metadata": {},
     "output_type": "execute_result"
    }
   ],
   "source": [
    "df_tesla.resample(rule=\"A\").max()"
   ]
  },
  {
   "cell_type": "code",
   "execution_count": 70,
   "id": "1de7a3d6",
   "metadata": {},
   "outputs": [
    {
     "data": {
      "text/plain": [
       "<AxesSubplot:xlabel='Date'>"
      ]
     },
     "execution_count": 70,
     "metadata": {},
     "output_type": "execute_result"
    },
    {
     "data": {
      "image/png": "[encoded data removed]",
      "text/plain": [
       "<Figure size 432x288 with 1 Axes>"
      ]
     },
     "metadata": {
      "needs_background": "light"
     },
     "output_type": "display_data"
    }
   ],
   "source": [
    "df_tesla.resample(rule=\"A\").max()['Open'].plot()"
   ]
  },
  {
   "cell_type": "code",
   "execution_count": 71,
   "id": "b19d13c8",
   "metadata": {},
   "outputs": [],
   "source": [
    "# what is rule A \n",
    "# it means year and frequency\n",
    "## quaterly start frequency"
   ]
  },
  {
   "cell_type": "code",
   "execution_count": 76,
   "id": "7054ae40",
   "metadata": {},
   "outputs": [
    {
     "data": {
      "text/plain": [
       "Date\n",
       "2017-01-01      56.400002\n",
       "2017-04-01      77.398003\n",
       "2017-07-01      77.921997\n",
       "2017-10-01      72.599998\n",
       "2018-01-01      72.099998\n",
       "2018-04-01      74.746002\n",
       "2018-07-01      77.491997\n",
       "2018-10-01      75.898003\n",
       "2019-01-01      70.400002\n",
       "2019-04-01      59.234001\n",
       "2019-07-01      53.214001\n",
       "2019-10-01      87.061996\n",
       "2020-01-01     193.798004\n",
       "2020-04-01     217.537994\n",
       "2020-07-01     502.489990\n",
       "2020-10-01     718.719971\n",
       "2021-01-01     900.400024\n",
       "2021-04-01     780.789978\n",
       "2021-07-01     799.000000\n",
       "2021-10-01    1243.489990\n",
       "2022-01-01    1208.000000\n",
       "Freq: QS-JAN, Name: High, dtype: float64"
      ]
     },
     "execution_count": 76,
     "metadata": {},
     "output_type": "execute_result"
    }
   ],
   "source": [
    "df_tesla.resample(rule=\"QS\")['High'].max()"
   ]
  },
  {
   "cell_type": "code",
   "execution_count": 75,
   "id": "fc20e70b",
   "metadata": {},
   "outputs": [
    {
     "data": {
      "text/plain": [
       "<AxesSubplot:xlabel='Date'>"
      ]
     },
     "execution_count": 75,
     "metadata": {},
     "output_type": "execute_result"
    },
    {
     "data": {
      "image/png": "[encoded data removed]",
      "text/plain": [
       "<Figure size 432x288 with 1 Axes>"
      ]
     },
     "metadata": {
      "needs_background": "light"
     },
     "output_type": "display_data"
    }
   ],
   "source": [
    "df_tesla.resample(rule=\"QS\")['High'].max().plot()"
   ]
  },
  {
   "cell_type": "code",
   "execution_count": 77,
   "id": "3a41b1fd",
   "metadata": {},
   "outputs": [
    {
     "data": {
      "text/plain": [
       "<AxesSubplot:xlabel='Date'>"
      ]
     },
     "execution_count": 77,
     "metadata": {},
     "output_type": "execute_result"
    },
    {
     "data": {
      "image/png": "[encoded data removed]",
      "text/plain": [
       "<Figure size 432x288 with 1 Axes>"
      ]
     },
     "metadata": {
      "needs_background": "light"
     },
     "output_type": "display_data"
    }
   ],
   "source": [
    "df_tesla.resample(rule=\"BA\")['High'].max().plot()"
   ]
  },
  {
   "cell_type": "code",
   "execution_count": 80,
   "id": "522abf3d",
   "metadata": {},
   "outputs": [
    {
     "data": {
      "text/html": [
       "<div>\n",
       "<style scoped>\n",
       "    .dataframe tbody tr th:only-of-type {\n",
       "        vertical-align: middle;\n",
       "    }\n",
       "\n",
       "    .dataframe tbody tr th {\n",
       "        vertical-align: top;\n",
       "    }\n",
       "\n",
       "    .dataframe thead th {\n",
       "        text-align: right;\n",
       "    }\n",
       "</style>\n",
       "<table border=\"1\" class=\"dataframe\">\n",
       "  <thead>\n",
       "    <tr style=\"text-align: right;\">\n",
       "      <th></th>\n",
       "      <th>High</th>\n",
       "      <th>Low</th>\n",
       "      <th>Open</th>\n",
       "      <th>Close</th>\n",
       "      <th>Volume</th>\n",
       "      <th>Adj Close</th>\n",
       "    </tr>\n",
       "    <tr>\n",
       "      <th>Date</th>\n",
       "      <th></th>\n",
       "      <th></th>\n",
       "      <th></th>\n",
       "      <th></th>\n",
       "      <th></th>\n",
       "      <th></th>\n",
       "    </tr>\n",
       "  </thead>\n",
       "  <tbody>\n",
       "    <tr>\n",
       "      <th>2017-12-29</th>\n",
       "      <td>77.921997</td>\n",
       "      <td>75.870003</td>\n",
       "      <td>77.337997</td>\n",
       "      <td>77.000000</td>\n",
       "      <td>98957000.0</td>\n",
       "      <td>77.000000</td>\n",
       "    </tr>\n",
       "    <tr>\n",
       "      <th>2018-12-31</th>\n",
       "      <td>77.491997</td>\n",
       "      <td>73.424004</td>\n",
       "      <td>75.000000</td>\n",
       "      <td>75.914001</td>\n",
       "      <td>168248500.0</td>\n",
       "      <td>75.914001</td>\n",
       "    </tr>\n",
       "    <tr>\n",
       "      <th>2019-12-31</th>\n",
       "      <td>87.061996</td>\n",
       "      <td>85.269997</td>\n",
       "      <td>87.000000</td>\n",
       "      <td>86.188004</td>\n",
       "      <td>150030500.0</td>\n",
       "      <td>86.188004</td>\n",
       "    </tr>\n",
       "    <tr>\n",
       "      <th>2020-12-31</th>\n",
       "      <td>718.719971</td>\n",
       "      <td>691.119995</td>\n",
       "      <td>699.989990</td>\n",
       "      <td>705.669983</td>\n",
       "      <td>304694000.0</td>\n",
       "      <td>705.669983</td>\n",
       "    </tr>\n",
       "    <tr>\n",
       "      <th>2021-12-31</th>\n",
       "      <td>1243.489990</td>\n",
       "      <td>1217.000000</td>\n",
       "      <td>1234.410034</td>\n",
       "      <td>1229.910034</td>\n",
       "      <td>89396500.0</td>\n",
       "      <td>1229.910034</td>\n",
       "    </tr>\n",
       "    <tr>\n",
       "      <th>2022-12-30</th>\n",
       "      <td>1208.000000</td>\n",
       "      <td>1136.040039</td>\n",
       "      <td>1189.550049</td>\n",
       "      <td>1199.780029</td>\n",
       "      <td>50521900.0</td>\n",
       "      <td>1199.780029</td>\n",
       "    </tr>\n",
       "  </tbody>\n",
       "</table>\n",
       "</div>"
      ],
      "text/plain": [
       "                   High          Low         Open        Close       Volume  \\\n",
       "Date                                                                          \n",
       "2017-12-29    77.921997    75.870003    77.337997    77.000000   98957000.0   \n",
       "2018-12-31    77.491997    73.424004    75.000000    75.914001  168248500.0   \n",
       "2019-12-31    87.061996    85.269997    87.000000    86.188004  150030500.0   \n",
       "2020-12-31   718.719971   691.119995   699.989990   705.669983  304694000.0   \n",
       "2021-12-31  1243.489990  1217.000000  1234.410034  1229.910034   89396500.0   \n",
       "2022-12-30  1208.000000  1136.040039  1189.550049  1199.780029   50521900.0   \n",
       "\n",
       "              Adj Close  \n",
       "Date                     \n",
       "2017-12-29    77.000000  \n",
       "2018-12-31    75.914001  \n",
       "2019-12-31    86.188004  \n",
       "2020-12-31   705.669983  \n",
       "2021-12-31  1229.910034  \n",
       "2022-12-30  1199.780029  "
      ]
     },
     "execution_count": 80,
     "metadata": {},
     "output_type": "execute_result"
    }
   ],
   "source": [
    "df_tesla.resample(rule=\"BA\").max()"
   ]
  },
  {
   "cell_type": "code",
   "execution_count": 86,
   "id": "334ce59d",
   "metadata": {},
   "outputs": [
    {
     "data": {
      "text/plain": [
       "<AxesSubplot:xlabel='Date'>"
      ]
     },
     "execution_count": 86,
     "metadata": {},
     "output_type": "execute_result"
    },
    {
     "data": {
      "image/png": "[encoded data removed]",
      "text/plain": [
       "<Figure size 432x288 with 1 Axes>"
      ]
     },
     "metadata": {
      "needs_background": "light"
     },
     "output_type": "display_data"
    }
   ],
   "source": [
    "## ploting \n",
    "df_tesla.Open.resample(rule=\"A\").mean().plot(kind='bar')"
   ]
  },
  {
   "cell_type": "code",
   "execution_count": 87,
   "id": "4db5f582",
   "metadata": {},
   "outputs": [
    {
     "data": {
      "text/plain": [
       "Date\n",
       "2017-02-28      49.236000\n",
       "2017-03-31      51.551652\n",
       "2017-04-30      60.739579\n",
       "2017-05-31      63.157545\n",
       "2017-06-30      73.356455\n",
       "                 ...     \n",
       "2021-10-31     869.860479\n",
       "2021-11-30    1117.766666\n",
       "2021-12-31    1024.433180\n",
       "2022-01-31    1019.310001\n",
       "2022-02-28     881.888333\n",
       "Freq: M, Name: Open, Length: 61, dtype: float64"
      ]
     },
     "execution_count": 87,
     "metadata": {},
     "output_type": "execute_result"
    }
   ],
   "source": [
    "df_tesla.Open.resample(rule=\"M\").mean()"
   ]
  },
  {
   "cell_type": "code",
   "execution_count": 89,
   "id": "cb04b4a8",
   "metadata": {},
   "outputs": [
    {
     "data": {
      "text/plain": [
       "<AxesSubplot:xlabel='Date'>"
      ]
     },
     "execution_count": 89,
     "metadata": {},
     "output_type": "execute_result"
    },
    {
     "data": {
      "image/png": "[encoded data removed]",
      "text/plain": [
       "<Figure size 1080x432 with 1 Axes>"
      ]
     },
     "metadata": {
      "needs_background": "light"
     },
     "output_type": "display_data"
    }
   ],
   "source": [
    "df_tesla.Open.resample(rule=\"M\").mean().plot(kind='bar',figsize=(15,6))"
   ]
  },
  {
   "cell_type": "code",
   "execution_count": 91,
   "id": "b5f3d0d8",
   "metadata": {},
   "outputs": [
    {
     "data": {
      "text/plain": [
       "Rolling [window=10,center=False,axis=0,method=single]"
      ]
     },
     "execution_count": 91,
     "metadata": {},
     "output_type": "execute_result"
    }
   ],
   "source": [
    "df_tesla.High.rolling(10)"
   ]
  },
  {
   "cell_type": "code",
   "execution_count": 95,
   "id": "a0124dd6",
   "metadata": {},
   "outputs": [
    {
     "data": {
      "text/plain": [
       "Date\n",
       "2017-02-27          NaN\n",
       "2017-02-28          NaN\n",
       "2017-03-01          NaN\n",
       "2017-03-02          NaN\n",
       "2017-03-03          NaN\n",
       "2017-03-06          NaN\n",
       "2017-03-07          NaN\n",
       "2017-03-08          NaN\n",
       "2017-03-09          NaN\n",
       "2017-03-10          NaN\n",
       "2017-03-13    50.128364\n",
       "2017-03-14    50.305818\n",
       "2017-03-15    50.487636\n",
       "2017-03-16    50.685818\n",
       "2017-03-17    50.904909\n",
       "2017-03-20    51.134909\n",
       "2017-03-21    51.373091\n",
       "2017-03-22    51.394545\n",
       "2017-03-23    51.532727\n",
       "2017-03-24    51.809637\n",
       "Name: High, dtype: float64"
      ]
     },
     "execution_count": 95,
     "metadata": {},
     "output_type": "execute_result"
    }
   ],
   "source": [
    "df_tesla.High.rolling(11).mean().head(20)"
   ]
  },
  {
   "cell_type": "code",
   "execution_count": 96,
   "id": "68632a25",
   "metadata": {},
   "outputs": [
    {
     "data": {
      "text/html": [
       "<div>\n",
       "<style scoped>\n",
       "    .dataframe tbody tr th:only-of-type {\n",
       "        vertical-align: middle;\n",
       "    }\n",
       "\n",
       "    .dataframe tbody tr th {\n",
       "        vertical-align: top;\n",
       "    }\n",
       "\n",
       "    .dataframe thead th {\n",
       "        text-align: right;\n",
       "    }\n",
       "</style>\n",
       "<table border=\"1\" class=\"dataframe\">\n",
       "  <thead>\n",
       "    <tr style=\"text-align: right;\">\n",
       "      <th></th>\n",
       "      <th>High</th>\n",
       "      <th>Low</th>\n",
       "      <th>Open</th>\n",
       "      <th>Close</th>\n",
       "      <th>Volume</th>\n",
       "      <th>Adj Close</th>\n",
       "    </tr>\n",
       "    <tr>\n",
       "      <th>Date</th>\n",
       "      <th></th>\n",
       "      <th></th>\n",
       "      <th></th>\n",
       "      <th></th>\n",
       "      <th></th>\n",
       "      <th></th>\n",
       "    </tr>\n",
       "  </thead>\n",
       "  <tbody>\n",
       "    <tr>\n",
       "      <th>2017-02-27</th>\n",
       "      <td>49.672001</td>\n",
       "      <td>48.402000</td>\n",
       "      <td>49.633999</td>\n",
       "      <td>49.245998</td>\n",
       "      <td>57304000.0</td>\n",
       "      <td>49.245998</td>\n",
       "    </tr>\n",
       "    <tr>\n",
       "      <th>2017-02-28</th>\n",
       "      <td>50.200001</td>\n",
       "      <td>48.779999</td>\n",
       "      <td>48.838001</td>\n",
       "      <td>49.998001</td>\n",
       "      <td>30390500.0</td>\n",
       "      <td>49.998001</td>\n",
       "    </tr>\n",
       "    <tr>\n",
       "      <th>2017-03-01</th>\n",
       "      <td>50.970001</td>\n",
       "      <td>49.821999</td>\n",
       "      <td>50.835999</td>\n",
       "      <td>50.004002</td>\n",
       "      <td>24047500.0</td>\n",
       "      <td>50.004002</td>\n",
       "    </tr>\n",
       "    <tr>\n",
       "      <th>2017-03-02</th>\n",
       "      <td>50.655998</td>\n",
       "      <td>49.653999</td>\n",
       "      <td>49.942001</td>\n",
       "      <td>50.096001</td>\n",
       "      <td>16759000.0</td>\n",
       "      <td>50.096001</td>\n",
       "    </tr>\n",
       "    <tr>\n",
       "      <th>2017-03-03</th>\n",
       "      <td>50.380001</td>\n",
       "      <td>49.799999</td>\n",
       "      <td>50.147999</td>\n",
       "      <td>50.313999</td>\n",
       "      <td>14597000.0</td>\n",
       "      <td>50.313999</td>\n",
       "    </tr>\n",
       "  </tbody>\n",
       "</table>\n",
       "</div>"
      ],
      "text/plain": [
       "                 High        Low       Open      Close      Volume  Adj Close\n",
       "Date                                                                         \n",
       "2017-02-27  49.672001  48.402000  49.633999  49.245998  57304000.0  49.245998\n",
       "2017-02-28  50.200001  48.779999  48.838001  49.998001  30390500.0  49.998001\n",
       "2017-03-01  50.970001  49.821999  50.835999  50.004002  24047500.0  50.004002\n",
       "2017-03-02  50.655998  49.653999  49.942001  50.096001  16759000.0  50.096001\n",
       "2017-03-03  50.380001  49.799999  50.147999  50.313999  14597000.0  50.313999"
      ]
     },
     "execution_count": 96,
     "metadata": {},
     "output_type": "execute_result"
    }
   ],
   "source": [
    "df_tesla.head()"
   ]
  },
  {
   "cell_type": "code",
   "execution_count": 99,
   "id": "65e2d6a0",
   "metadata": {},
   "outputs": [],
   "source": [
    "df_tesla['Open:30 days rolling'] = df_tesla.Open.rolling(30).mean()"
   ]
  },
  {
   "cell_type": "code",
   "execution_count": 101,
   "id": "f6fdcf6c",
   "metadata": {},
   "outputs": [
    {
     "data": {
      "text/html": [
       "<div>\n",
       "<style scoped>\n",
       "    .dataframe tbody tr th:only-of-type {\n",
       "        vertical-align: middle;\n",
       "    }\n",
       "\n",
       "    .dataframe tbody tr th {\n",
       "        vertical-align: top;\n",
       "    }\n",
       "\n",
       "    .dataframe thead th {\n",
       "        text-align: right;\n",
       "    }\n",
       "</style>\n",
       "<table border=\"1\" class=\"dataframe\">\n",
       "  <thead>\n",
       "    <tr style=\"text-align: right;\">\n",
       "      <th></th>\n",
       "      <th>High</th>\n",
       "      <th>Low</th>\n",
       "      <th>Open</th>\n",
       "      <th>Close</th>\n",
       "      <th>Volume</th>\n",
       "      <th>Adj Close</th>\n",
       "      <th>Open:30 days rolling</th>\n",
       "    </tr>\n",
       "    <tr>\n",
       "      <th>Date</th>\n",
       "      <th></th>\n",
       "      <th></th>\n",
       "      <th></th>\n",
       "      <th></th>\n",
       "      <th></th>\n",
       "      <th></th>\n",
       "      <th></th>\n",
       "    </tr>\n",
       "  </thead>\n",
       "  <tbody>\n",
       "    <tr>\n",
       "      <th>2017-02-27</th>\n",
       "      <td>49.672001</td>\n",
       "      <td>48.402000</td>\n",
       "      <td>49.633999</td>\n",
       "      <td>49.245998</td>\n",
       "      <td>57304000.0</td>\n",
       "      <td>49.245998</td>\n",
       "      <td>NaN</td>\n",
       "    </tr>\n",
       "    <tr>\n",
       "      <th>2017-02-28</th>\n",
       "      <td>50.200001</td>\n",
       "      <td>48.779999</td>\n",
       "      <td>48.838001</td>\n",
       "      <td>49.998001</td>\n",
       "      <td>30390500.0</td>\n",
       "      <td>49.998001</td>\n",
       "      <td>NaN</td>\n",
       "    </tr>\n",
       "    <tr>\n",
       "      <th>2017-03-01</th>\n",
       "      <td>50.970001</td>\n",
       "      <td>49.821999</td>\n",
       "      <td>50.835999</td>\n",
       "      <td>50.004002</td>\n",
       "      <td>24047500.0</td>\n",
       "      <td>50.004002</td>\n",
       "      <td>NaN</td>\n",
       "    </tr>\n",
       "    <tr>\n",
       "      <th>2017-03-02</th>\n",
       "      <td>50.655998</td>\n",
       "      <td>49.653999</td>\n",
       "      <td>49.942001</td>\n",
       "      <td>50.096001</td>\n",
       "      <td>16759000.0</td>\n",
       "      <td>50.096001</td>\n",
       "      <td>NaN</td>\n",
       "    </tr>\n",
       "    <tr>\n",
       "      <th>2017-03-03</th>\n",
       "      <td>50.380001</td>\n",
       "      <td>49.799999</td>\n",
       "      <td>50.147999</td>\n",
       "      <td>50.313999</td>\n",
       "      <td>14597000.0</td>\n",
       "      <td>50.313999</td>\n",
       "      <td>NaN</td>\n",
       "    </tr>\n",
       "    <tr>\n",
       "      <th>2017-03-06</th>\n",
       "      <td>50.340000</td>\n",
       "      <td>49.501999</td>\n",
       "      <td>49.582001</td>\n",
       "      <td>50.242001</td>\n",
       "      <td>16777500.0</td>\n",
       "      <td>50.242001</td>\n",
       "      <td>NaN</td>\n",
       "    </tr>\n",
       "    <tr>\n",
       "      <th>2017-03-07</th>\n",
       "      <td>50.778000</td>\n",
       "      <td>49.664001</td>\n",
       "      <td>50.383999</td>\n",
       "      <td>49.717999</td>\n",
       "      <td>17297500.0</td>\n",
       "      <td>49.717999</td>\n",
       "      <td>NaN</td>\n",
       "    </tr>\n",
       "    <tr>\n",
       "      <th>2017-03-08</th>\n",
       "      <td>50.014000</td>\n",
       "      <td>49.063999</td>\n",
       "      <td>49.400002</td>\n",
       "      <td>49.374001</td>\n",
       "      <td>18626000.0</td>\n",
       "      <td>49.374001</td>\n",
       "      <td>NaN</td>\n",
       "    </tr>\n",
       "    <tr>\n",
       "      <th>2017-03-09</th>\n",
       "      <td>49.731998</td>\n",
       "      <td>48.599998</td>\n",
       "      <td>49.526001</td>\n",
       "      <td>48.980000</td>\n",
       "      <td>19396500.0</td>\n",
       "      <td>48.980000</td>\n",
       "      <td>NaN</td>\n",
       "    </tr>\n",
       "    <tr>\n",
       "      <th>2017-03-10</th>\n",
       "      <td>49.299999</td>\n",
       "      <td>48.599998</td>\n",
       "      <td>49.242001</td>\n",
       "      <td>48.737999</td>\n",
       "      <td>15331500.0</td>\n",
       "      <td>48.737999</td>\n",
       "      <td>NaN</td>\n",
       "    </tr>\n",
       "    <tr>\n",
       "      <th>2017-03-13</th>\n",
       "      <td>49.369999</td>\n",
       "      <td>48.556000</td>\n",
       "      <td>48.964001</td>\n",
       "      <td>49.234001</td>\n",
       "      <td>15113000.0</td>\n",
       "      <td>49.234001</td>\n",
       "      <td>NaN</td>\n",
       "    </tr>\n",
       "    <tr>\n",
       "      <th>2017-03-14</th>\n",
       "      <td>51.624001</td>\n",
       "      <td>49.203999</td>\n",
       "      <td>49.222000</td>\n",
       "      <td>51.599998</td>\n",
       "      <td>37992000.0</td>\n",
       "      <td>51.599998</td>\n",
       "      <td>NaN</td>\n",
       "    </tr>\n",
       "    <tr>\n",
       "      <th>2017-03-15</th>\n",
       "      <td>52.200001</td>\n",
       "      <td>50.854000</td>\n",
       "      <td>51.400002</td>\n",
       "      <td>51.146000</td>\n",
       "      <td>26654000.0</td>\n",
       "      <td>51.146000</td>\n",
       "      <td>NaN</td>\n",
       "    </tr>\n",
       "    <tr>\n",
       "      <th>2017-03-16</th>\n",
       "      <td>53.150002</td>\n",
       "      <td>51.812000</td>\n",
       "      <td>52.480000</td>\n",
       "      <td>52.410000</td>\n",
       "      <td>35661000.0</td>\n",
       "      <td>52.410000</td>\n",
       "      <td>NaN</td>\n",
       "    </tr>\n",
       "    <tr>\n",
       "      <th>2017-03-17</th>\n",
       "      <td>53.066002</td>\n",
       "      <td>52.240002</td>\n",
       "      <td>52.799999</td>\n",
       "      <td>52.299999</td>\n",
       "      <td>32487500.0</td>\n",
       "      <td>52.299999</td>\n",
       "      <td>NaN</td>\n",
       "    </tr>\n",
       "    <tr>\n",
       "      <th>2017-03-20</th>\n",
       "      <td>52.910000</td>\n",
       "      <td>51.764000</td>\n",
       "      <td>52.119999</td>\n",
       "      <td>52.383999</td>\n",
       "      <td>18071500.0</td>\n",
       "      <td>52.383999</td>\n",
       "      <td>NaN</td>\n",
       "    </tr>\n",
       "    <tr>\n",
       "      <th>2017-03-21</th>\n",
       "      <td>52.959999</td>\n",
       "      <td>50.048000</td>\n",
       "      <td>52.566002</td>\n",
       "      <td>50.136002</td>\n",
       "      <td>34543000.0</td>\n",
       "      <td>50.136002</td>\n",
       "      <td>NaN</td>\n",
       "    </tr>\n",
       "    <tr>\n",
       "      <th>2017-03-22</th>\n",
       "      <td>51.014000</td>\n",
       "      <td>50.102001</td>\n",
       "      <td>50.312000</td>\n",
       "      <td>51.001999</td>\n",
       "      <td>20296500.0</td>\n",
       "      <td>51.001999</td>\n",
       "      <td>NaN</td>\n",
       "    </tr>\n",
       "    <tr>\n",
       "      <th>2017-03-23</th>\n",
       "      <td>51.534000</td>\n",
       "      <td>50.660000</td>\n",
       "      <td>51.077999</td>\n",
       "      <td>50.956001</td>\n",
       "      <td>16601000.0</td>\n",
       "      <td>50.956001</td>\n",
       "      <td>NaN</td>\n",
       "    </tr>\n",
       "    <tr>\n",
       "      <th>2017-03-24</th>\n",
       "      <td>52.778000</td>\n",
       "      <td>51.001999</td>\n",
       "      <td>51.139999</td>\n",
       "      <td>52.632000</td>\n",
       "      <td>28236500.0</td>\n",
       "      <td>52.632000</td>\n",
       "      <td>NaN</td>\n",
       "    </tr>\n",
       "    <tr>\n",
       "      <th>2017-03-27</th>\n",
       "      <td>54.113998</td>\n",
       "      <td>51.950001</td>\n",
       "      <td>52.119999</td>\n",
       "      <td>54.043999</td>\n",
       "      <td>31154000.0</td>\n",
       "      <td>54.043999</td>\n",
       "      <td>NaN</td>\n",
       "    </tr>\n",
       "    <tr>\n",
       "      <th>2017-03-28</th>\n",
       "      <td>56.136002</td>\n",
       "      <td>55.000000</td>\n",
       "      <td>55.403999</td>\n",
       "      <td>55.490002</td>\n",
       "      <td>39938000.0</td>\n",
       "      <td>55.490002</td>\n",
       "      <td>NaN</td>\n",
       "    </tr>\n",
       "    <tr>\n",
       "      <th>2017-03-29</th>\n",
       "      <td>55.919998</td>\n",
       "      <td>55.108002</td>\n",
       "      <td>55.667999</td>\n",
       "      <td>55.476002</td>\n",
       "      <td>18381000.0</td>\n",
       "      <td>55.476002</td>\n",
       "      <td>NaN</td>\n",
       "    </tr>\n",
       "    <tr>\n",
       "      <th>2017-03-30</th>\n",
       "      <td>56.400002</td>\n",
       "      <td>55.442001</td>\n",
       "      <td>55.608002</td>\n",
       "      <td>55.584000</td>\n",
       "      <td>20742000.0</td>\n",
       "      <td>55.584000</td>\n",
       "      <td>NaN</td>\n",
       "    </tr>\n",
       "    <tr>\n",
       "      <th>2017-03-31</th>\n",
       "      <td>55.936001</td>\n",
       "      <td>55.264000</td>\n",
       "      <td>55.745998</td>\n",
       "      <td>55.660000</td>\n",
       "      <td>16473000.0</td>\n",
       "      <td>55.660000</td>\n",
       "      <td>NaN</td>\n",
       "    </tr>\n",
       "    <tr>\n",
       "      <th>2017-04-03</th>\n",
       "      <td>59.799999</td>\n",
       "      <td>56.916000</td>\n",
       "      <td>57.380001</td>\n",
       "      <td>59.703999</td>\n",
       "      <td>69443000.0</td>\n",
       "      <td>59.703999</td>\n",
       "      <td>NaN</td>\n",
       "    </tr>\n",
       "    <tr>\n",
       "      <th>2017-04-04</th>\n",
       "      <td>60.962002</td>\n",
       "      <td>58.905998</td>\n",
       "      <td>59.377998</td>\n",
       "      <td>60.740002</td>\n",
       "      <td>50673000.0</td>\n",
       "      <td>60.740002</td>\n",
       "      <td>NaN</td>\n",
       "    </tr>\n",
       "    <tr>\n",
       "      <th>2017-04-05</th>\n",
       "      <td>60.976002</td>\n",
       "      <td>58.840000</td>\n",
       "      <td>60.408001</td>\n",
       "      <td>59.000000</td>\n",
       "      <td>39404500.0</td>\n",
       "      <td>59.000000</td>\n",
       "      <td>NaN</td>\n",
       "    </tr>\n",
       "    <tr>\n",
       "      <th>2017-04-06</th>\n",
       "      <td>60.388000</td>\n",
       "      <td>58.820000</td>\n",
       "      <td>59.375999</td>\n",
       "      <td>59.740002</td>\n",
       "      <td>27603000.0</td>\n",
       "      <td>59.740002</td>\n",
       "      <td>NaN</td>\n",
       "    </tr>\n",
       "    <tr>\n",
       "      <th>2017-04-07</th>\n",
       "      <td>60.537998</td>\n",
       "      <td>59.430000</td>\n",
       "      <td>59.500000</td>\n",
       "      <td>60.507999</td>\n",
       "      <td>22898000.0</td>\n",
       "      <td>60.507999</td>\n",
       "      <td>52.6734</td>\n",
       "    </tr>\n",
       "  </tbody>\n",
       "</table>\n",
       "</div>"
      ],
      "text/plain": [
       "                 High        Low       Open      Close      Volume  Adj Close  \\\n",
       "Date                                                                            \n",
       "2017-02-27  49.672001  48.402000  49.633999  49.245998  57304000.0  49.245998   \n",
       "2017-02-28  50.200001  48.779999  48.838001  49.998001  30390500.0  49.998001   \n",
       "2017-03-01  50.970001  49.821999  50.835999  50.004002  24047500.0  50.004002   \n",
       "2017-03-02  50.655998  49.653999  49.942001  50.096001  16759000.0  50.096001   \n",
       "2017-03-03  50.380001  49.799999  50.147999  50.313999  14597000.0  50.313999   \n",
       "2017-03-06  50.340000  49.501999  49.582001  50.242001  16777500.0  50.242001   \n",
       "2017-03-07  50.778000  49.664001  50.383999  49.717999  17297500.0  49.717999   \n",
       "2017-03-08  50.014000  49.063999  49.400002  49.374001  18626000.0  49.374001   \n",
       "2017-03-09  49.731998  48.599998  49.526001  48.980000  19396500.0  48.980000   \n",
       "2017-03-10  49.299999  48.599998  49.242001  48.737999  15331500.0  48.737999   \n",
       "2017-03-13  49.369999  48.556000  48.964001  49.234001  15113000.0  49.234001   \n",
       "2017-03-14  51.624001  49.203999  49.222000  51.599998  37992000.0  51.599998   \n",
       "2017-03-15  52.200001  50.854000  51.400002  51.146000  26654000.0  51.146000   \n",
       "2017-03-16  53.150002  51.812000  52.480000  52.410000  35661000.0  52.410000   \n",
       "2017-03-17  53.066002  52.240002  52.799999  52.299999  32487500.0  52.299999   \n",
       "2017-03-20  52.910000  51.764000  52.119999  52.383999  18071500.0  52.383999   \n",
       "2017-03-21  52.959999  50.048000  52.566002  50.136002  34543000.0  50.136002   \n",
       "2017-03-22  51.014000  50.102001  50.312000  51.001999  20296500.0  51.001999   \n",
       "2017-03-23  51.534000  50.660000  51.077999  50.956001  16601000.0  50.956001   \n",
       "2017-03-24  52.778000  51.001999  51.139999  52.632000  28236500.0  52.632000   \n",
       "2017-03-27  54.113998  51.950001  52.119999  54.043999  31154000.0  54.043999   \n",
       "2017-03-28  56.136002  55.000000  55.403999  55.490002  39938000.0  55.490002   \n",
       "2017-03-29  55.919998  55.108002  55.667999  55.476002  18381000.0  55.476002   \n",
       "2017-03-30  56.400002  55.442001  55.608002  55.584000  20742000.0  55.584000   \n",
       "2017-03-31  55.936001  55.264000  55.745998  55.660000  16473000.0  55.660000   \n",
       "2017-04-03  59.799999  56.916000  57.380001  59.703999  69443000.0  59.703999   \n",
       "2017-04-04  60.962002  58.905998  59.377998  60.740002  50673000.0  60.740002   \n",
       "2017-04-05  60.976002  58.840000  60.408001  59.000000  39404500.0  59.000000   \n",
       "2017-04-06  60.388000  58.820000  59.375999  59.740002  27603000.0  59.740002   \n",
       "2017-04-07  60.537998  59.430000  59.500000  60.507999  22898000.0  60.507999   \n",
       "\n",
       "            Open:30 days rolling  \n",
       "Date                              \n",
       "2017-02-27                   NaN  \n",
       "2017-02-28                   NaN  \n",
       "2017-03-01                   NaN  \n",
       "2017-03-02                   NaN  \n",
       "2017-03-03                   NaN  \n",
       "2017-03-06                   NaN  \n",
       "2017-03-07                   NaN  \n",
       "2017-03-08                   NaN  \n",
       "2017-03-09                   NaN  \n",
       "2017-03-10                   NaN  \n",
       "2017-03-13                   NaN  \n",
       "2017-03-14                   NaN  \n",
       "2017-03-15                   NaN  \n",
       "2017-03-16                   NaN  \n",
       "2017-03-17                   NaN  \n",
       "2017-03-20                   NaN  \n",
       "2017-03-21                   NaN  \n",
       "2017-03-22                   NaN  \n",
       "2017-03-23                   NaN  \n",
       "2017-03-24                   NaN  \n",
       "2017-03-27                   NaN  \n",
       "2017-03-28                   NaN  \n",
       "2017-03-29                   NaN  \n",
       "2017-03-30                   NaN  \n",
       "2017-03-31                   NaN  \n",
       "2017-04-03                   NaN  \n",
       "2017-04-04                   NaN  \n",
       "2017-04-05                   NaN  \n",
       "2017-04-06                   NaN  \n",
       "2017-04-07               52.6734  "
      ]
     },
     "execution_count": 101,
     "metadata": {},
     "output_type": "execute_result"
    }
   ],
   "source": [
    "df_tesla.head(30)"
   ]
  },
  {
   "cell_type": "code",
   "execution_count": 104,
   "id": "98fdc73f",
   "metadata": {},
   "outputs": [
    {
     "data": {
      "text/plain": [
       "<AxesSubplot:xlabel='Date'>"
      ]
     },
     "execution_count": 104,
     "metadata": {},
     "output_type": "execute_result"
    },
    {
     "data": {
      "image/png": "[encoded data removed]",
      "text/plain": [
       "<Figure size 864x360 with 1 Axes>"
      ]
     },
     "metadata": {
      "needs_background": "light"
     },
     "output_type": "display_data"
    }
   ],
   "source": [
    "df_tesla[['Open','Open:30 days rolling']].plot(figsize=(12,5))"
   ]
  },
  {
   "cell_type": "code",
   "execution_count": null,
   "id": "ca4f39b5",
   "metadata": {},
   "outputs": [],
   "source": []
  }
 ],
 "metadata": {
  "kernelspec": {
   "display_name": "Python 3 (ipykernel)",
   "language": "python",
   "name": "python3"
  },
  "language_info": {
   "codemirror_mode": {
    "name": "ipython",
    "version": 3
   },
   "file_extension": ".py",
   "mimetype": "text/x-python",
   "name": "python",
   "nbconvert_exporter": "python",
   "pygments_lexer": "ipython3",
   "version": "3.9.7"
  },
  "toc": {
   "base_numbering": 1,
   "nav_menu": {},
   "number_sections": true,
   "sideBar": true,
   "skip_h1_title": false,
   "title_cell": "Table of Contents",
   "title_sidebar": "Contents",
   "toc_cell": false,
   "toc_position": {},
   "toc_section_display": true,
   "toc_window_display": false
  }
 },
 "nbformat": 4,
 "nbformat_minor": 5
}
